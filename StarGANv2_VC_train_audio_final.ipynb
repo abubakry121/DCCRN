{
  "metadata": {
    "kernelspec": {
      "language": "python",
      "display_name": "Python 3",
      "name": "python3"
    },
    "language_info": {
      "pygments_lexer": "ipython3",
      "nbconvert_exporter": "python",
      "version": "3.6.4",
      "file_extension": ".py",
      "codemirror_mode": {
        "name": "ipython",
        "version": 3
      },
      "name": "python",
      "mimetype": "text/x-python"
    },
    "colab": {
      "name": "StarGANv2-VC-train-audio-final",
      "provenance": [],
      "include_colab_link": true
    }
  },
  "nbformat_minor": 0,
  "nbformat": 4,
  "cells": [
    {
      "cell_type": "markdown",
      "metadata": {
        "id": "view-in-github",
        "colab_type": "text"
      },
      "source": [
        "<a href=\"https://colab.research.google.com/github/abubakry121/DCCRN/blob/master/StarGANv2_VC_train_audio_final.ipynb\" target=\"_parent\"><img src=\"https://colab.research.google.com/assets/colab-badge.svg\" alt=\"Open In Colab\"/></a>"
      ]
    },
    {
      "cell_type": "code",
      "source": [
        "!git clone https://github.com/koushik-elite/StarGANv2-VC-Custom.git StarGANv2-VC"
      ],
      "metadata": {
        "_uuid": "8f2839f25d086af736a60e9eeb907d3b93b6e0e5",
        "_cell_guid": "b1076dfc-b9ad-4769-8c92-a6c4dae69d19",
        "execution": {
          "iopub.status.busy": "2023-10-28T16:55:26.117673Z",
          "iopub.execute_input": "2023-10-28T16:55:26.117966Z",
          "iopub.status.idle": "2023-10-28T16:55:27.053746Z",
          "shell.execute_reply.started": "2023-10-28T16:55:26.117942Z",
          "shell.execute_reply": "2023-10-28T16:55:27.052342Z"
        },
        "trusted": true,
        "id": "AbSAX8NxsVIC"
      },
      "execution_count": null,
      "outputs": []
    },
    {
      "cell_type": "code",
      "source": [
        "%cd StarGANv2-VC"
      ],
      "metadata": {
        "execution": {
          "iopub.status.busy": "2023-10-28T16:55:27.056507Z",
          "iopub.execute_input": "2023-10-28T16:55:27.056882Z",
          "iopub.status.idle": "2023-10-28T16:55:27.063515Z",
          "shell.execute_reply.started": "2023-10-28T16:55:27.056853Z",
          "shell.execute_reply": "2023-10-28T16:55:27.06264Z"
        },
        "trusted": true,
        "id": "SiBHbNI7sVIP"
      },
      "execution_count": null,
      "outputs": []
    },
    {
      "cell_type": "code",
      "source": [
        "!pip install SoundFile torchaudio munch parallel_wavegan torch pydub pyyaml click librosa"
      ],
      "metadata": {
        "execution": {
          "iopub.status.busy": "2023-10-28T16:55:27.064702Z",
          "iopub.execute_input": "2023-10-28T16:55:27.064984Z",
          "iopub.status.idle": "2023-10-28T16:55:45.550031Z",
          "shell.execute_reply.started": "2023-10-28T16:55:27.064961Z",
          "shell.execute_reply": "2023-10-28T16:55:45.548296Z"
        },
        "trusted": true,
        "id": "9YlQzqmcsVIR"
      },
      "execution_count": null,
      "outputs": []
    },
    {
      "cell_type": "code",
      "source": [
        "import os\n",
        "import pandas as pd\n",
        "\n",
        "def dataset_dict(dir_path, label, result):\n",
        "    for file_path in os.listdir(dir_path):\n",
        "        # check if current file_path is a file\n",
        "        full_path = os.path.join(dir_path, file_path)\n",
        "        if os.path.isfile(full_path):\n",
        "            # add filename to list\n",
        "            result.append([full_path, label])\n",
        "    return result\n",
        "\n",
        "# directory/folder path\n",
        "\n",
        "# list to store files\n",
        "res = []\n",
        "\n",
        "# res = dataset_dict('/kaggle/input/starganv2-vc-my/Data/Data/p225/', 0, res)\n",
        "# res = dataset_dict('/kaggle/input/starganv2-vc-my/Data/Data/p226/', 1, res)\n",
        "# res = dataset_dict('/kaggle/input/starganv2-vc-my/Data/Data/p227/', 2, res)\n",
        "\n",
        "res = dataset_dict('/kaggle/input/starganv2-vc-my/Tamil/mangai/', 0, res)\n",
        "res = dataset_dict('/kaggle/input/starganv2-vc-my/Tamil/suchi/', 1, res)\n",
        "res = dataset_dict('/kaggle/input/starganv2-vc-my/Tamil/barathi/', 2, res)\n",
        "res = dataset_dict('/kaggle/input/starganv2-vc-my/Tamil/kapila/', 3, res)\n",
        "res = dataset_dict('/kaggle/input/starganv2-vc-my/Tamil/nith/', 4, res)\n",
        "res = dataset_dict('/kaggle/input/starganv2-vc-my/Tamil/kick/', 5, res)\n",
        "# Iterate directory\n",
        "\n",
        "data_df = pd.DataFrame(res)\n",
        "data_df.head()"
      ],
      "metadata": {
        "execution": {
          "iopub.status.busy": "2023-10-28T16:55:45.553707Z",
          "iopub.execute_input": "2023-10-28T16:55:45.554488Z",
          "iopub.status.idle": "2023-10-28T16:55:46.059643Z",
          "shell.execute_reply.started": "2023-10-28T16:55:45.554438Z",
          "shell.execute_reply": "2023-10-28T16:55:46.058527Z"
        },
        "trusted": true,
        "id": "Wr2T2xPwsVIS"
      },
      "execution_count": null,
      "outputs": []
    },
    {
      "cell_type": "code",
      "source": [
        "data_df = data_df.sample(frac = 1).reset_index(drop=True)\n",
        "data_df.head()"
      ],
      "metadata": {
        "execution": {
          "iopub.status.busy": "2023-10-28T16:55:46.060874Z",
          "iopub.execute_input": "2023-10-28T16:55:46.061342Z",
          "iopub.status.idle": "2023-10-28T16:55:46.075382Z",
          "shell.execute_reply.started": "2023-10-28T16:55:46.061314Z",
          "shell.execute_reply": "2023-10-28T16:55:46.074494Z"
        },
        "trusted": true,
        "id": "FsSaMlNSsVIW"
      },
      "execution_count": null,
      "outputs": []
    },
    {
      "cell_type": "code",
      "source": [
        "size = data_df.shape[0]\n",
        "split_no = int(size * 0.95)"
      ],
      "metadata": {
        "execution": {
          "iopub.status.busy": "2023-10-28T16:55:46.076343Z",
          "iopub.execute_input": "2023-10-28T16:55:46.07662Z",
          "iopub.status.idle": "2023-10-28T16:55:46.085126Z",
          "shell.execute_reply.started": "2023-10-28T16:55:46.076597Z",
          "shell.execute_reply": "2023-10-28T16:55:46.084285Z"
        },
        "trusted": true,
        "id": "edB-Er5ssVIY"
      },
      "execution_count": null,
      "outputs": []
    },
    {
      "cell_type": "code",
      "source": [
        "train_df = data_df[:split_no]\n",
        "val_df = data_df[split_no:]"
      ],
      "metadata": {
        "execution": {
          "iopub.status.busy": "2023-10-28T16:55:46.086186Z",
          "iopub.execute_input": "2023-10-28T16:55:46.086467Z",
          "iopub.status.idle": "2023-10-28T16:55:46.096257Z",
          "shell.execute_reply.started": "2023-10-28T16:55:46.086444Z",
          "shell.execute_reply": "2023-10-28T16:55:46.095363Z"
        },
        "trusted": true,
        "id": "pn3qnKHlsVIZ"
      },
      "execution_count": null,
      "outputs": []
    },
    {
      "cell_type": "code",
      "source": [
        "train_df.to_csv('/kaggle/working/StarGANv2-VC/Data/train_list.txt', sep='|', index=False, header=None)\n",
        "val_df.to_csv('/kaggle/working/StarGANv2-VC/Data/val_list.txt', sep='|', index=False, header=None)"
      ],
      "metadata": {
        "execution": {
          "iopub.status.busy": "2023-10-28T16:55:46.097473Z",
          "iopub.execute_input": "2023-10-28T16:55:46.097799Z",
          "iopub.status.idle": "2023-10-28T16:55:46.114392Z",
          "shell.execute_reply.started": "2023-10-28T16:55:46.097768Z",
          "shell.execute_reply": "2023-10-28T16:55:46.113555Z"
        },
        "trusted": true,
        "id": "kL_1YN2rsVIb"
      },
      "execution_count": null,
      "outputs": []
    },
    {
      "cell_type": "code",
      "source": [
        "import yaml\n",
        "\n",
        "fname = \"./Configs/config.yml\"\n",
        "\n",
        "# stream = open(fname, 'r')\n",
        "# data = yaml.load(stream)\n",
        "\n",
        "with open(fname, \"r\") as stream:\n",
        "    try:\n",
        "        data = yaml.safe_load(stream)\n",
        "    except yaml.YAMLError as exc:\n",
        "        print(exc)\n",
        "\n",
        "data['F0_path'] = '/kaggle/input/pitchextractor-output/PitchExtractor/Checkpoint/epoch_00100.pth'\n",
        "data['ASR_config'] = '/kaggle/input/auxiliaryasr-tamil-ouput/AuxiliaryASR-Customized/Checkpoint/config.yml'\n",
        "data['ASR_path'] = '/kaggle/input/auxiliaryasr-tamil-ouput/AuxiliaryASR-Customized/Checkpoint/epoch_00010.pth'\n",
        "\n",
        "with open(fname, 'w') as yaml_file:\n",
        "    yaml_file.write( yaml.dump(data, default_flow_style=False))"
      ],
      "metadata": {
        "execution": {
          "iopub.status.busy": "2023-10-28T16:55:46.115566Z",
          "iopub.execute_input": "2023-10-28T16:55:46.115912Z",
          "iopub.status.idle": "2023-10-28T16:55:46.156281Z",
          "shell.execute_reply.started": "2023-10-28T16:55:46.11588Z",
          "shell.execute_reply": "2023-10-28T16:55:46.155399Z"
        },
        "trusted": true,
        "id": "FHYLok7rsVId"
      },
      "execution_count": null,
      "outputs": []
    },
    {
      "cell_type": "code",
      "source": [
        "# import yaml\n",
        "\n",
        "# data = dict(\n",
        "#     log_dir = 'Models/VCTK20',\n",
        "#     save_freq = 20,\n",
        "#     device = 'cuda',\n",
        "#     epochs = 100,\n",
        "#     batch_size = 10,\n",
        "#     pretrained_model = '',\n",
        "#     load_only_params = False,\n",
        "#     fp16_run = True,\n",
        "#     train_data = \"Data/train_list.txt\",\n",
        "#     val_data = \"Data/val_list.txt\",\n",
        "#     F0_path = \"Utils/JDC/bst.t7\",\n",
        "#     ASR_config = \"Utils/ASR/config.yml\",\n",
        "#     ASR_path = \"Utils/ASR/epoch_00100.pth\",\n",
        "#     preprocess_params = dict(\n",
        "#         sr = 24000,\n",
        "#         spect_params = dict(\n",
        "#             n_fft = 2048,\n",
        "#             win_length = 1200,\n",
        "#             hop_length = 300,\n",
        "#         )\n",
        "#     ),\n",
        "#     model_params = dict(\n",
        "#         dim_in = 64,\n",
        "#         style_dim = 64,\n",
        "#         latent_dim = 16,\n",
        "#         num_domains = 20,\n",
        "#         max_conv_dim = 512,\n",
        "#         n_repeat = 4,\n",
        "#         w_hpf = 0,\n",
        "#         F0_channel = 256,\n",
        "#     ),\n",
        "#     loss_params = dict(\n",
        "#         g_loss = dict(\n",
        "#             lambda_sty = 1,\n",
        "#             lambda_cyc = 5,\n",
        "#             lambda_ds = 1,\n",
        "#             lambda_norm = 1,\n",
        "#             lambda_asr = 10,\n",
        "#             lambda_f0 = 5,\n",
        "#             lambda_f0_sty = 0.1,\n",
        "#             lambda_adv = 2,\n",
        "#             lambda_adv_cls = 0.5,\n",
        "#             norm_bias = 0.5,\n",
        "#         ),\n",
        "#         d_loss = dict(\n",
        "#             lambda_reg = 1,\n",
        "#             lambda_adv_cls = 0.1,\n",
        "#             lambda_con_reg = 10,\n",
        "#         ),\n",
        "#         adv_cls_epoch = 50,\n",
        "#         con_reg_epoch = 30,\n",
        "#     ),\n",
        "#     optimizer_params = dict(\n",
        "#         lr = 0.0001\n",
        "#     )\n",
        "# )\n",
        "\n",
        "# with open('./Configs/config.yml', 'w') as outfile:\n",
        "#     yaml.dump(data, outfile, default_flow_style=False)"
      ],
      "metadata": {
        "execution": {
          "iopub.status.busy": "2023-10-28T16:55:46.159337Z",
          "iopub.execute_input": "2023-10-28T16:55:46.15961Z",
          "iopub.status.idle": "2023-10-28T16:55:46.165262Z",
          "shell.execute_reply.started": "2023-10-28T16:55:46.159587Z",
          "shell.execute_reply": "2023-10-28T16:55:46.16431Z"
        },
        "trusted": true,
        "id": "Kx-ookm1sVIf"
      },
      "execution_count": null,
      "outputs": []
    },
    {
      "cell_type": "code",
      "source": [
        "# import os\n",
        "# import os.path as osp\n",
        "# import re\n",
        "# import sys\n",
        "# import yaml\n",
        "# import shutil\n",
        "# import numpy as np\n",
        "# import torch\n",
        "# import click\n",
        "# import warnings\n",
        "# warnings.simplefilter('ignore')\n",
        "\n",
        "# from functools import reduce\n",
        "# from munch import Munch\n",
        "\n",
        "# from meldataset import build_dataloader\n",
        "# from optimizers import build_optimizer\n",
        "# from models import build_model\n",
        "# from trainer import Trainer\n",
        "# from torch.utils.tensorboard import SummaryWriter\n",
        "\n",
        "# from Utils.ASR.models import ASRCNN\n",
        "# from Utils.JDC.model import JDCNet\n",
        "\n",
        "# import logging\n",
        "# from logging import StreamHandler\n",
        "# logger = logging.getLogger(__name__)\n",
        "# logger.setLevel(logging.DEBUG)\n",
        "# handler = StreamHandler()\n",
        "# handler.setLevel(logging.DEBUG)\n",
        "# logger.addHandler(handler)\n",
        "\n",
        "# torch.backends.cudnn.benchmark = True #"
      ],
      "metadata": {
        "execution": {
          "iopub.status.busy": "2023-10-28T16:55:46.166568Z",
          "iopub.execute_input": "2023-10-28T16:55:46.16714Z",
          "iopub.status.idle": "2023-10-28T16:55:46.178492Z",
          "shell.execute_reply.started": "2023-10-28T16:55:46.167107Z",
          "shell.execute_reply": "2023-10-28T16:55:46.17764Z"
        },
        "trusted": true,
        "id": "huNxV6lNsVIh"
      },
      "execution_count": null,
      "outputs": []
    },
    {
      "cell_type": "code",
      "source": [
        "# log_dir = data['log_dir']\n",
        "# if not osp.exists(log_dir): os.makedirs(log_dir, exist_ok=True)\n",
        "# # shutil.copy(config_path, osp.join(log_dir, osp.basename(config_path)))\n",
        "# writer = SummaryWriter(log_dir + \"/tensorboard\")\n",
        "\n",
        "# # write logs\n",
        "# file_handler = logging.FileHandler(osp.join(log_dir, 'train.log'))\n",
        "# file_handler.setLevel(logging.DEBUG)\n",
        "# file_handler.setFormatter(logging.Formatter('%(levelname)s:%(asctime)s: %(message)s'))\n",
        "# logger.addHandler(file_handler)"
      ],
      "metadata": {
        "execution": {
          "iopub.status.busy": "2023-10-28T16:55:46.179603Z",
          "iopub.execute_input": "2023-10-28T16:55:46.179872Z",
          "iopub.status.idle": "2023-10-28T16:55:46.193097Z",
          "shell.execute_reply.started": "2023-10-28T16:55:46.179848Z",
          "shell.execute_reply": "2023-10-28T16:55:46.192418Z"
        },
        "trusted": true,
        "id": "Tgm-SQZbsVIi"
      },
      "execution_count": null,
      "outputs": []
    },
    {
      "cell_type": "code",
      "source": [
        "# batch_size = data[\"batch_size\"]\n",
        "# device = data[\"device\"]\n",
        "# epochs = data[\"epochs\"]\n",
        "# save_freq = data[\"save_freq\"]\n",
        "# train_path = '/kaggle/working/StarGANv2-VC/Data/train_list.txt'\n",
        "# val_path = '/kaggle/working/StarGANv2-VC/Data/train_list.txt'\n",
        "# stage = 'star'\n",
        "# fp16_run = data[\"fp16_run\"]"
      ],
      "metadata": {
        "execution": {
          "iopub.status.busy": "2023-10-28T16:55:46.194146Z",
          "iopub.execute_input": "2023-10-28T16:55:46.194484Z",
          "iopub.status.idle": "2023-10-28T16:55:46.203622Z",
          "shell.execute_reply.started": "2023-10-28T16:55:46.194451Z",
          "shell.execute_reply": "2023-10-28T16:55:46.202784Z"
        },
        "trusted": true,
        "id": "ZyTp8passVIj"
      },
      "execution_count": null,
      "outputs": []
    },
    {
      "cell_type": "code",
      "source": [
        "# train_list, val_list = get_data_path_list(train_path, val_path)\n",
        "# train_list"
      ],
      "metadata": {
        "execution": {
          "iopub.status.busy": "2023-10-28T16:55:46.204878Z",
          "iopub.execute_input": "2023-10-28T16:55:46.205668Z",
          "iopub.status.idle": "2023-10-28T16:55:46.212841Z",
          "shell.execute_reply.started": "2023-10-28T16:55:46.205637Z",
          "shell.execute_reply": "2023-10-28T16:55:46.21199Z"
        },
        "trusted": true,
        "id": "NvW96S75sVIk"
      },
      "execution_count": null,
      "outputs": []
    },
    {
      "cell_type": "code",
      "source": [
        "# train_dataloader = build_dataloader(train_list, batch_size=batch_size, num_workers=0, device=device)\n",
        "# val_dataloader = build_dataloader(val_list, batch_size=batch_size, validation=True, num_workers=0, device=device)"
      ],
      "metadata": {
        "execution": {
          "iopub.status.busy": "2023-10-28T16:55:46.213852Z",
          "iopub.execute_input": "2023-10-28T16:55:46.214111Z",
          "iopub.status.idle": "2023-10-28T16:55:46.22247Z",
          "shell.execute_reply.started": "2023-10-28T16:55:46.214089Z",
          "shell.execute_reply": "2023-10-28T16:55:46.221639Z"
        },
        "trusted": true,
        "id": "1IW-M4xVsVIk"
      },
      "execution_count": null,
      "outputs": []
    },
    {
      "cell_type": "code",
      "source": [
        "# # load pretrained ASR model\n",
        "# ASR_config = \"/kaggle/input/auxiliaryasr-tamil-ouput/AuxiliaryASR-Customized/Configs/config.yml\"\n",
        "# ASR_path = \"/kaggle/input/auxiliaryasr-tamil-ouput/AuxiliaryASR-Customized/Checkpoint/epoch_00100.pth\"\n",
        "# with open(ASR_config) as f:\n",
        "#     ASR_config = yaml.safe_load(f)\n",
        "\n",
        "# ASR_model_config = ASR_config['model_params']\n",
        "# ASR_model = ASRCNN(**ASR_model_config)\n",
        "# params = torch.load(ASR_path, map_location='cpu')['model']\n",
        "# ASR_model.load_state_dict(params)\n",
        "# _ = ASR_model.eval()\n",
        "\n",
        "# # load pretrained F0 model\n",
        "# # F0_path = \"/kaggle/input/pitchextractor-output/PitchExtractor/Checkpoint/epoch_00100.pth\"\n",
        "# # F0_path = \"/kaggle/working/StarGANv2-VC/Utils/JDC/bst.t7\"\n",
        "# F0_path = \"/kaggle/input/pitchextractor-output/PitchExtractor/Checkpoint/epoch_00100.pth\"\n",
        "# F0_model = JDCNet(num_class=1, seq_len=192)\n",
        "\n",
        "# params = torch.load(F0_path, map_location='cpu')['model']\n",
        "# F0_model.load_state_dict(params)"
      ],
      "metadata": {
        "execution": {
          "iopub.status.busy": "2023-10-28T16:55:46.223456Z",
          "iopub.execute_input": "2023-10-28T16:55:46.223701Z",
          "iopub.status.idle": "2023-10-28T16:55:46.232787Z",
          "shell.execute_reply.started": "2023-10-28T16:55:46.22368Z",
          "shell.execute_reply": "2023-10-28T16:55:46.232043Z"
        },
        "trusted": true,
        "id": "dKcUo77-sVIl"
      },
      "execution_count": null,
      "outputs": []
    },
    {
      "cell_type": "code",
      "source": [
        "# # build model\n",
        "# model, model_ema = build_model(Munch(data[\"model_params\"]), F0_model, ASR_model)\n",
        "# scheduler_params = {\n",
        "#     \"max_lr\": float(data['optimizer_params'].get('lr', 2e-4)),\n",
        "#     \"pct_start\": float(data['optimizer_params'].get('pct_start', 0.0)),\n",
        "#     \"epochs\": epochs,\n",
        "#     \"steps_per_epoch\": len(train_dataloader),\n",
        "# }\n",
        "# _ = [model[key].to(device) for key in model]\n",
        "# _ = [model_ema[key].to(device) for key in model_ema]\n",
        "# scheduler_params_dict = {key: scheduler_params.copy() for key in model}\n",
        "# scheduler_params_dict['mapping_network']['max_lr'] = 2e-6\n",
        "# optimizer = build_optimizer({key: model[key].parameters() for key in model}, scheduler_params_dict=scheduler_params_dict)"
      ],
      "metadata": {
        "execution": {
          "iopub.status.busy": "2023-10-28T16:55:46.233812Z",
          "iopub.execute_input": "2023-10-28T16:55:46.234099Z",
          "iopub.status.idle": "2023-10-28T16:55:46.246092Z",
          "shell.execute_reply.started": "2023-10-28T16:55:46.234076Z",
          "shell.execute_reply": "2023-10-28T16:55:46.245261Z"
        },
        "trusted": true,
        "id": "F5WvG9BjsVIm"
      },
      "execution_count": null,
      "outputs": []
    },
    {
      "cell_type": "code",
      "source": [
        "# trainer = Trainer(args=Munch(data['loss_params']), model=model,\n",
        "#                             model_ema=model_ema,\n",
        "#                             optimizer=optimizer,\n",
        "#                             device=device,\n",
        "#                             train_dataloader=train_dataloader,\n",
        "#                             val_dataloader=val_dataloader,\n",
        "#                             logger=logger,\n",
        "#                             fp16_run=fp16_run)"
      ],
      "metadata": {
        "execution": {
          "iopub.status.busy": "2023-10-28T16:55:46.247139Z",
          "iopub.execute_input": "2023-10-28T16:55:46.247398Z",
          "iopub.status.idle": "2023-10-28T16:55:46.256097Z",
          "shell.execute_reply.started": "2023-10-28T16:55:46.247376Z",
          "shell.execute_reply": "2023-10-28T16:55:46.25524Z"
        },
        "trusted": true,
        "id": "bI1YU8udsVIm"
      },
      "execution_count": null,
      "outputs": []
    },
    {
      "cell_type": "code",
      "source": [
        "# for step, (x, y) in enumerate(train_dataloader):\n",
        "#     print(x)"
      ],
      "metadata": {
        "execution": {
          "iopub.status.busy": "2023-10-28T16:55:46.257125Z",
          "iopub.execute_input": "2023-10-28T16:55:46.257406Z",
          "iopub.status.idle": "2023-10-28T16:55:46.269003Z",
          "shell.execute_reply.started": "2023-10-28T16:55:46.257383Z",
          "shell.execute_reply": "2023-10-28T16:55:46.268227Z"
        },
        "trusted": true,
        "id": "or4lcCYrsVIn"
      },
      "execution_count": null,
      "outputs": []
    },
    {
      "cell_type": "code",
      "source": [
        "# for _ in range(1, epochs+1):\n",
        "#     epoch = trainer.epochs\n",
        "#     train_results = trainer._train_epoch()\n",
        "#     eval_results = trainer._eval_epoch()\n",
        "#     results = train_results.copy()\n",
        "#     results.update(eval_results)\n",
        "#     logger.info('--- epoch %d ---' % epoch)\n",
        "#     for key, value in results.items():\n",
        "#         if isinstance(value, float):\n",
        "#             logger.info('%-15s: %.4f' % (key, value))\n",
        "#             writer.add_scalar(key, value, epoch)\n",
        "#         else:\n",
        "#             for v in value:\n",
        "#                 writer.add_figure('eval_spec', v, epoch)\n",
        "#     if (epoch % save_freq) == 0:\n",
        "#         trainer.save_checkpoint(osp.join(log_dir, 'epoch_%05d.pth' % epoch))"
      ],
      "metadata": {
        "execution": {
          "iopub.status.busy": "2023-10-28T16:55:46.270098Z",
          "iopub.execute_input": "2023-10-28T16:55:46.270366Z",
          "iopub.status.idle": "2023-10-28T16:55:46.27967Z",
          "shell.execute_reply.started": "2023-10-28T16:55:46.270344Z",
          "shell.execute_reply": "2023-10-28T16:55:46.278758Z"
        },
        "trusted": true,
        "id": "zoMkn2WzsVIo"
      },
      "execution_count": null,
      "outputs": []
    },
    {
      "cell_type": "code",
      "source": [
        "# trainer.load_checkpoint(data['pretrained_model'], load_only_params=True)"
      ],
      "metadata": {
        "execution": {
          "iopub.status.busy": "2023-10-28T16:55:46.280859Z",
          "iopub.execute_input": "2023-10-28T16:55:46.281476Z",
          "iopub.status.idle": "2023-10-28T16:55:46.288425Z",
          "shell.execute_reply.started": "2023-10-28T16:55:46.281445Z",
          "shell.execute_reply": "2023-10-28T16:55:46.287583Z"
        },
        "trusted": true,
        "id": "a7YU63VhsVIo"
      },
      "execution_count": null,
      "outputs": []
    },
    {
      "cell_type": "code",
      "source": [
        "!python train.py --config_path ./Configs/config.yml"
      ],
      "metadata": {
        "execution": {
          "iopub.status.busy": "2023-10-28T16:55:46.289448Z",
          "iopub.execute_input": "2023-10-28T16:55:46.289712Z",
          "iopub.status.idle": "2023-10-28T16:56:02.94141Z",
          "shell.execute_reply.started": "2023-10-28T16:55:46.28969Z",
          "shell.execute_reply": "2023-10-28T16:56:02.940225Z"
        },
        "trusted": true,
        "id": "Ww7rsIwysVIp"
      },
      "execution_count": null,
      "outputs": []
    }
  ]
}