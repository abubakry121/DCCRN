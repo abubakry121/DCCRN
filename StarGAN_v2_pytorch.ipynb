{
  "nbformat": 4,
  "nbformat_minor": 0,
  "metadata": {
    "colab": {
      "name": "StarGAN-v2-pytorch.ipynb",
      "provenance": [],
      "private_outputs": true,
      "include_colab_link": true
    },
    "kernelspec": {
      "name": "python3",
      "display_name": "Python 3"
    },
    "accelerator": "GPU"
  },
  "cells": [
    {
      "cell_type": "markdown",
      "metadata": {
        "id": "view-in-github",
        "colab_type": "text"
      },
      "source": [
        "<a href=\"https://colab.research.google.com/github/abubakry121/DCCRN/blob/master/StarGAN_v2_pytorch.ipynb\" target=\"_parent\"><img src=\"https://colab.research.google.com/assets/colab-badge.svg\" alt=\"Open In Colab\"/></a>"
      ]
    },
    {
      "cell_type": "code",
      "metadata": {
        "id": "imNk_wnr9Zhv"
      },
      "source": [
        "!git clone https://github.com/clovaai/stargan-v2.git\n",
        "!pip install ffmpeg-python munch\n",
        "%cd stargan-v2/"
      ],
      "execution_count": null,
      "outputs": []
    },
    {
      "cell_type": "markdown",
      "metadata": {
        "id": "VHt2usvo978O"
      },
      "source": [
        "## Download AFHQ"
      ]
    },
    {
      "cell_type": "code",
      "metadata": {
        "id": "BrWI1FN09mwZ"
      },
      "source": [
        "!bash download.sh afhq-dataset\n",
        "!bash download.sh pretrained-network-afhq"
      ],
      "execution_count": null,
      "outputs": []
    },
    {
      "cell_type": "markdown",
      "metadata": {
        "id": "_IpHzn2t-OME"
      },
      "source": [
        "## Generate Samples"
      ]
    },
    {
      "cell_type": "code",
      "metadata": {
        "id": "dvwQdZ2J9yVt"
      },
      "source": [
        "!python main.py --mode sample --num_domains 3 --resume_iter 100000 --w_hpf 0 \\\n",
        "               --checkpoint_dir expr/checkpoints/afhq \\\n",
        "               --result_dir expr/results/afhq \\\n",
        "               --src_dir assets/representative/afhq/src \\\n",
        "               --ref_dir assets/representative/afhq/ref \\\n",
        "               --val_batch_size 4 # https://github.com/clovaai/stargan-v2/issues/24"
      ],
      "execution_count": null,
      "outputs": []
    },
    {
      "cell_type": "code",
      "metadata": {
        "id": "xMTd3UFoBfCw"
      },
      "source": [
        "import ffmpeg\n",
        "probe = ffmpeg.probe('/content/stargan-v2/expr/results/afhq/video_ref.mp4')\n",
        "video_streams = [stream for stream in probe[\"streams\"] if stream[\"codec_type\"] == \"video\"]\n",
        "print(video_streams)"
      ],
      "execution_count": null,
      "outputs": []
    },
    {
      "cell_type": "code",
      "metadata": {
        "id": "JEkr-I0__UFl"
      },
      "source": [
        "#Videos (thanks Kaitlin Schaer!)\n",
        "def show_local_mp4_video(file_name, width=640, height=480):\n",
        "  import io\n",
        "  import base64\n",
        "  from IPython.display import HTML\n",
        "  video_encoded = base64.b64encode(io.open(file_name, 'rb').read())\n",
        "  return HTML(data='''<video width=\"{0}\" height=\"{1}\" alt=\"test\" controls>\n",
        "                        <source src=\"data:video/mp4;base64,{2}\" type=\"video/mp4\" />\n",
        "                      </video>'''.format(width, height, video_encoded.decode('ascii')))\n",
        "\n",
        "show_local_mp4_video('/content/stargan-v2/expr/results/afhq/video_ref.mp4', width=1025, height=400)"
      ],
      "execution_count": null,
      "outputs": []
    },
    {
      "cell_type": "code",
      "metadata": {
        "id": "uRl0pT4aBoul"
      },
      "source": [],
      "execution_count": null,
      "outputs": []
    }
  ]
}